{
 "cells": [
  {
   "cell_type": "markdown",
   "metadata": {},
   "source": [
    "# Testing MIPCL-PY package (and MIPCL solver!)"
   ]
  },
  {
   "cell_type": "markdown",
   "metadata": {},
   "source": [
    "Gonna try out some of the example problems/code in the MIPCL-PY documentation"
   ]
  },
  {
   "cell_type": "code",
   "execution_count": 1,
   "metadata": {},
   "outputs": [],
   "source": [
    "import mipcl_py.mipshell.mipshell as mip"
   ]
  },
  {
   "cell_type": "code",
   "execution_count": 5,
   "metadata": {},
   "outputs": [],
   "source": [
    "class CVP(mip.Problem):\n",
    "    def model(self,B,v):\n",
    "        self.v = v\n",
    "        m, n = len(v),  len(B[0])\n",
    "        self.x = x = mip.VarVector((n,),\"x\",mip.INT,lb=-mip.VAR_INF)\n",
    "        self.y = y = mip.VarVector((m,),\"y\",lb=-mip.VAR_INF)\n",
    "        self.t = t = mip.Var(\"t\")\n",
    "\n",
    "        mip.minimize(t)\n",
    "        for i in range(m):\n",
    "            mip.sum_(B[i][j]*x[j] for j in range(n)) + y[i] == v[i]\n",
    "        mip.norm(y) <= t\n",
    "\n",
    "    def printSolution(self):\n",
    "        t, x, y, v = self.t, self.x, self.y, self.v\n",
    "        m, n = len(y), len(x)\n",
    "\n",
    "        print('Minimum distance = {:.4f}\\n'.format(t.val))\n",
    "        str = 'x = ({:d}'.format(int(x[0].val + 0.5))\n",
    "        for j in range(1,n):\n",
    "            str+=', {:d}'.format(int(x[j].val + 0.5))\n",
    "        print(str+')\\n')\n",
    "\n",
    "        print(' _____________________________________')\n",
    "        print('|         v        |         Bx       |')\n",
    "        print('|------------------+------------------|')\n",
    "        for i in range(m):\n",
    "            print('| {:16.4f} | {:16.4f} |'.format(v[i],v[i]-y[i].val))\n",
    "        print(' -------------------------------------')"
   ]
  },
  {
   "cell_type": "code",
   "execution_count": 6,
   "metadata": {
    "lines_to_next_cell": 0
   },
   "outputs": [
    {
     "name": "stdout",
     "output_type": "stream",
     "text": [
      "Minimum distance = 1691.7178\n",
      "\n",
      "x = (-2, 1, -84, 0, 189, 2, -12, -76)\n",
      "\n",
      " _____________________________________\n",
      "|         v        |         Bx       |\n",
      "|------------------+------------------|\n",
      "|          12.0000 |          12.0000 |\n",
      "|       -1700.0000 |        -263.0000 |\n",
      "|         424.0000 |        -162.0000 |\n",
      "|         -25.0000 |        -175.0000 |\n",
      "|         191.0000 |        -348.0000 |\n",
      "|           0.0000 |          43.0000 |\n",
      "|          12.0000 |         254.0000 |\n",
      "|         304.0000 |          78.0000 |\n",
      "|         -19.0000 |        -162.0000 |\n",
      "|         514.0000 |         499.0000 |\n",
      "|           0.0000 |          74.0000 |\n",
      "|          77.0000 |          23.0000 |\n",
      " -------------------------------------\n"
     ]
    }
   ],
   "source": [
    "B = (\n",
    "    (-11, 0, 2, -1, 1, 0, 9, -1),\n",
    "    (-3, 0, 1, -3, -1, 1, 0, 0),\n",
    "    (0, -2, 1, 2, 0, 1, 0, 1),\n",
    "    (-1, -103, 0, 0, 0, 1, 0, 1),\n",
    "    (0, 1, 0, 1, -3, 0, 1, -3),\n",
    "    (-1, 0, -5, 3, 0, 0, 77, -8),\n",
    "    (10, 2, 0, -1, 1, 8, 0, -1),\n",
    "    (3, 0, -1, 914, 0, 1, 0, 0),\n",
    "    (0, -2, 1, 2, 0, 1, 0, 1),\n",
    "    (-97, 1, 0, 0, 0, 142, 0, 1),\n",
    "    (2, -432, 0, 1, -3, 0, -6, -13),\n",
    "    (4, 0, 5, 265, 0, 0, 12, -8)\n",
    ")\n",
    "v = (12, -1700, 424, -25, 191, 0, 12, 304, -19, 514, 0, 77)\n",
    "\n",
    "prob = CVP(\"testCVP\")\n",
    "prob.model(B,v)\n",
    "prob.optimize(False)\n",
    "prob.printSolution()"
   ]
  },
  {
   "cell_type": "code",
   "execution_count": null,
   "metadata": {
    "lines_to_next_cell": 2
   },
   "outputs": [],
   "source": []
  }
 ],
 "metadata": {
  "jupytext": {
   "formats": "ipynb,py:light"
  },
  "kernelspec": {
   "display_name": "Python 3",
   "language": "python",
   "name": "python3"
  },
  "language_info": {
   "codemirror_mode": {
    "name": "ipython",
    "version": 3
   },
   "file_extension": ".py",
   "mimetype": "text/x-python",
   "name": "python",
   "nbconvert_exporter": "python",
   "pygments_lexer": "ipython3",
   "version": "3.7.3"
  }
 },
 "nbformat": 4,
 "nbformat_minor": 4
}
