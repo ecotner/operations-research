{
 "cells": [
  {
   "cell_type": "markdown",
   "metadata": {},
   "source": [
    "# LP and MIP"
   ]
  },
  {
   "cell_type": "markdown",
   "metadata": {},
   "source": [
    "## Test out `cvxpy` and linear programming"
   ]
  },
  {
   "cell_type": "code",
   "execution_count": 1,
   "metadata": {},
   "outputs": [],
   "source": [
    "import cvxpy as cvx\n",
    "import numpy as np\n",
    "import scipy.spatial\n",
    "import matplotlib.pyplot as plt"
   ]
  },
  {
   "cell_type": "code",
   "execution_count": 2,
   "metadata": {},
   "outputs": [
    {
     "data": {
      "text/plain": [
       "['CVXOPT', 'ECOS', 'ECOS_BB', 'GLPK', 'GLPK_MI', 'OSQP', 'SCS']"
      ]
     },
     "execution_count": 2,
     "metadata": {},
     "output_type": "execute_result"
    }
   ],
   "source": [
    "cvx.installed_solvers()"
   ]
  },
  {
   "cell_type": "code",
   "execution_count": 3,
   "metadata": {},
   "outputs": [],
   "source": [
    "n = 10\n",
    "m = 5\n",
    "np.random.seed(1)\n",
    "A = np.random.randn(n, m)\n",
    "b = np.random.randn(n)\n",
    "\n",
    "x = cvx.Variable(m)\n",
    "constraints = [\n",
    "    0 <= x, x <= 1\n",
    "]\n",
    "\n",
    "obj = cvx.Minimize(cvx.sum_squares(A*x - b))\n",
    "\n",
    "prob = cvx.Problem(obj, constraints)\n",
    "prob.solve(solver=cvx.CVXOPT);"
   ]
  },
  {
   "cell_type": "code",
   "execution_count": 4,
   "metadata": {},
   "outputs": [
    {
     "name": "stdout",
     "output_type": "stream",
     "text": [
      "Using CVXOPT:\n",
      "status: optimal\n",
      "optimal objective: 4.1413380197190195\n",
      "optimal vars - x=[-8.48527714e-08 -5.67853902e-08  1.34636455e-01  1.24964056e-01\n",
      " -5.38616202e-08]\n"
     ]
    }
   ],
   "source": [
    "print(\"Using CVXOPT:\")\n",
    "print(\"status:\", prob.status)\n",
    "print(\"optimal objective:\", prob.value)\n",
    "print(f\"optimal vars - x={x.value}\")"
   ]
  },
  {
   "cell_type": "markdown",
   "metadata": {},
   "source": [
    "## Try out some MIP"
   ]
  },
  {
   "cell_type": "markdown",
   "metadata": {},
   "source": [
    "We'll solve a small traveling salesman problem using integer programming. We are given a set of $N$ locations $L \\in \\mathbb{R}^{N\\times 2}$, with a distance matrix $D \\in \\mathbb{R}^{N\\times N}$. We have a set of boolean decision variables $X \\in \\mathbb{R}^{N\\times N}$ where the $X_{ij}$ entry says to travel from the $i$th location to the $j$th location. We will also introduce $N$ slack variables $1 \\le u_i \\le N-1$ which describes the visitation order for the $i$th location ($u_0$ is fixed to zero).\n",
    "\n",
    "We want to find the route that minimizes the total distance traveled, while still visiting all the locations, and returning back to the origin. This means we must solve the following problem:\n",
    "\n",
    "$$\n",
    "\\min_X \\sum_{i,j=1}^{N} D_{ij} X_{ij} \\\\\n",
    "\\text{subject to} \\\\\n",
    "\\sum_{i=1,i\\neq j}^{N} X_{ij} = 1, \\qquad\n",
    "\\sum_{j=1,j\\neq i}^{N} X_{ij} = 1, \\qquad\n",
    "X_{ii} = 0, \\\\\n",
    "u_0 = 0,\\,1 \\le u_i \\le N-1;\\, i \\in [1, N], \\qquad\n",
    "u_i - u_j + NX_{ij} \\le N-1;\\, \\forall i \\neq j\n",
    "$$"
   ]
  },
  {
   "cell_type": "code",
   "execution_count": 89,
   "metadata": {},
   "outputs": [
    {
     "name": "stdout",
     "output_type": "stream",
     "text": [
      "CPU times: user 2.1 s, sys: 0 ns, total: 2.1 s\n",
      "Wall time: 2.1 s\n"
     ]
    },
    {
     "data": {
      "text/plain": [
       "11.759253652968988"
      ]
     },
     "execution_count": 89,
     "metadata": {},
     "output_type": "execute_result"
    }
   ],
   "source": [
    "# Simple traveling salesman problem\n",
    "from scipy.spatial.distance import pdist, squareform\n",
    "N = 15    # number of locations\n",
    "np.random.seed(1)\n",
    "locations = np.random.randn(N, 2)    # (x,y) coordinates of the locations\n",
    "D = squareform(pdist(locations))    # distance matrix between locations\n",
    "\n",
    "# Location visitation variables; \n",
    "X = cvx.Variable((N, N), boolean=True)\n",
    "u = cvx.Variable(N-1, integer=True)\n",
    "\n",
    "# Constraints\n",
    "constraints = [\n",
    "    cvx.sum(X, axis=0) == 1,\n",
    "    cvx.sum(X, axis=1) == 1,\n",
    "    cvx.trace(X) == 0,\n",
    "    1 <= u, u <= N-1\n",
    "]\n",
    "constraints.extend(\n",
    "    [u[i-1] - u[j-1] + N*X[i,j] <= N-1 for i in range(1, N) for j in range(1, N) if i != j]\n",
    ")\n",
    "\n",
    "# Objective\n",
    "obj = cvx.Minimize(cvx.sum(cvx.multiply(D, X)))\n",
    "\n",
    "# Problem\n",
    "prob = cvx.Problem(obj, constraints)\n",
    "%time prob.solve(solver=cvx.GLPK_MI, glpk={\"tmlim\": 1, \"presolve\": \"GLP_ON\"})"
   ]
  },
  {
   "cell_type": "code",
   "execution_count": 90,
   "metadata": {},
   "outputs": [
    {
     "name": "stdout",
     "output_type": "stream",
     "text": [
      "Problem status: optimal\n",
      "Location index: [ 0  1  2  3  4  5  6  7  8  9 10 11 12 13 14]\n",
      "argmax(X):      [ 3 13  1  7 12  2 10  5  6 11 14  4  0  8  9]\n",
      "Visitation order: [0, 5, 4, 1, 13, 3, 8, 2, 7, 11, 9, 12, 14, 6, 10, 0]\n"
     ]
    }
   ],
   "source": [
    "print(\"Problem status:\", prob.status)\n",
    "print(\"Location index:\", np.arange(N))\n",
    "print(\"argmax(X):     \", np.argmax(X.value, axis=1))\n",
    "print(\"Visitation order:\", [0]+u.value.astype(int).tolist()+[0])"
   ]
  },
  {
   "cell_type": "code",
   "execution_count": 91,
   "metadata": {},
   "outputs": [
    {
     "data": {
      "image/png": "[encoded data removed]",
      "text/plain": [
       "<Figure size 432x288 with 1 Axes>"
      ]
     },
     "metadata": {
      "needs_background": "light"
     },
     "output_type": "display_data"
    }
   ],
   "source": [
    "order = list(list(zip(*sorted(\n",
    "    zip(\n",
    "        list(range(N))+[0], \n",
    "        [0]+u.value.astype(int).tolist()+[N]\n",
    "    ), \n",
    "    key=lambda e: e[1]\n",
    ")))[0])\n",
    "tour = locations[order]\n",
    "plt.plot(*tour.T)\n",
    "for i, t in enumerate(tour[:-1]):\n",
    "    plt.scatter(*t, marker=f\"${i}$\", color='black', s=100*len(str(i)))\n",
    "plt.title(f\"Traveling salesman tour\\nTotal distance: {prob.value}\")\n",
    "plt.show()"
   ]
  },
  {
   "cell_type": "code",
   "execution_count": 88,
   "metadata": {},
   "outputs": [
    {
     "data": {
      "text/plain": [
       "'1.0.25'"
      ]
     },
     "execution_count": 88,
     "metadata": {},
     "output_type": "execute_result"
    }
   ],
   "source": [
    "cvx.__version__"
   ]
  },
  {
   "cell_type": "code",
   "execution_count": null,
   "metadata": {},
   "outputs": [],
   "source": []
  }
 ],
 "metadata": {
  "jupytext": {
   "formats": "ipynb,py:light"
  },
  "kernelspec": {
   "display_name": "Python 3",
   "language": "python",
   "name": "python3"
  },
  "language_info": {
   "codemirror_mode": {
    "name": "ipython",
    "version": 3
   },
   "file_extension": ".py",
   "mimetype": "text/x-python",
   "name": "python",
   "nbconvert_exporter": "python",
   "pygments_lexer": "ipython3",
   "version": "3.7.3"
  }
 },
 "nbformat": 4,
 "nbformat_minor": 4
}
