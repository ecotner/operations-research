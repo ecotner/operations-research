{
 "cells": [
  {
   "cell_type": "markdown",
   "metadata": {},
   "source": [
    "# Vehicle Routing Problem (VRP)"
   ]
  },
  {
   "cell_type": "markdown",
   "metadata": {},
   "source": [
    "Here we're going to solve the vehicle routing problem (VRP). This is an exercise in integer programming, so it essentially becomes combinatorial optimization, and large problems quickly become unsolvable, so we'll keep it small. This is actually really similar to the traveling salesman problem (TSP), but with some small modifications."
   ]
  },
  {
   "cell_type": "markdown",
   "metadata": {},
   "source": [
    "The formulation of the problem is as follows: we must provide three input variables: a distance/time/cost matrix $D \\in \\mathbb{R}^{N\\times N}$, "
   ]
  },
  {
   "cell_type": "code",
   "execution_count": 1,
   "metadata": {},
   "outputs": [],
   "source": [
    "from typing import Union, Iterable\n",
    "\n",
    "import mipcl_py.mipshell.mipshell as mip\n",
    "import numpy as np\n",
    "import matplotlib.pyplot as plt\n",
    "from scipy.spatial.distance import pdist, squareform"
   ]
  },
  {
   "cell_type": "code",
   "execution_count": 8,
   "metadata": {},
   "outputs": [],
   "source": [
    "class VRP(mip.Problem):\n",
    "    \"\"\"MILP problem for modeling the Vehicle Routing Problem\n",
    "    \n",
    "    This is a simple version of the VRP where all the vehicles involved have identical\n",
    "    characteristics (i.e. all the same capacity, costs, etc.). The maximum number of \n",
    "    vehicles can be specified, but if there is a way to deliver the goods without using\n",
    "    all of the vehicles that is more optimal, it will do that, otherwise if the capacity\n",
    "    constraints cannot be met the problem will be infeasible. You can also specify\n",
    "    the quantity of goods to be dropped off at each customer; by default this is just 1\n",
    "    \"\"\"\n",
    "    def model(self, D: np.ndarray, K: int, C: float, q: Union[float, Iterable]=1):\n",
    "        \"\"\"VRP model definition\n",
    "        Arguments:\n",
    "            D [ndarray]: Square matrix (NxN) of distances between locations. It\n",
    "                is assumed that location 0 is the depot.\n",
    "            K [int]: The maximum number of vehicles available.\n",
    "            C [float]: The capacity of each vehicle.\n",
    "            q Union[float, Iterable]: The quantity of goods dropped off at\n",
    "                the given locations.\n",
    "        Returns:\n",
    "            None\n",
    "        \"\"\"\n",
    "        self.D = D\n",
    "        self.C = C\n",
    "        self.K = K\n",
    "        N = len(D)\n",
    "        if isinstance(q, (float, int)):\n",
    "            q = q * np.ones(N-1)\n",
    "        self.q = q\n",
    "        \n",
    "        # Variables\n",
    "        self._X = X = mip.VarVector((N, N), \"X\", mip.BIN)\n",
    "        self._u = u = mip.VarVector((N-1,), \"u\", mip.INT, lb=0, ub=C-1)\n",
    "        self._k = k = mip.Var(\"k\", mip.INT, lb=1, ub=K)\n",
    "        \n",
    "        # Constraints\n",
    "        for i in range(1, N):\n",
    "            mip.sum_(X[i][j] for j in range(N)) == 1\n",
    "            mip.sum_(X[j][i] for j in range(N)) == 1\n",
    "            X[i][i] == 0\n",
    "        X[0][0] == 0\n",
    "        mip.sum_(X[i][0] for i in range(N)) == k\n",
    "        mip.sum_(X[0][i] for i in range(N)) == k\n",
    "        for i in range(1, N):\n",
    "            for j in range(1, N):\n",
    "                if i == j:\n",
    "                    continue\n",
    "                u[j-1] - u[i-1] >= q[j-1] - C*(1-X[i][j])\n",
    "        \n",
    "        # Objective\n",
    "        obj = mip.sum_(D[i,j]*X[i][j] for i in range(N) for j in range(N))\n",
    "        mip.minimize(obj)\n",
    "        \n",
    "    @property\n",
    "    def X(self):\n",
    "        N = len(self._X)\n",
    "        X = np.array([\n",
    "            [self._X[i][j].val for j in range(N)] \n",
    "        for i in range(N)]).astype(int)\n",
    "        return X\n",
    "    \n",
    "    @property\n",
    "    def u(self):\n",
    "        u = self._u\n",
    "        u = np.array([u[i].val for i in range(len(u))])\n",
    "        return u.astype(int)\n",
    "    \n",
    "    @property\n",
    "    def routes(self):\n",
    "        X = self.X\n",
    "        N = len(X)\n",
    "        # Destinations after leaving depot\n",
    "        destinations = np.arange(N)[X[0] == 1]\n",
    "        # Iterate over routes\n",
    "        routes = list()\n",
    "        for d in destinations:\n",
    "            route = [0, d]\n",
    "            while True:\n",
    "                if d == 0:\n",
    "                    break\n",
    "                d = np.argmax(X[d])\n",
    "                route.append(d)\n",
    "            routes.append(route)\n",
    "        return routes\n",
    "    \n",
    "    def printSolution(self):\n",
    "        print(\"Is optimal:\", self.is_solutionOptimal)\n",
    "        print(\"Total distance:\", self.getObjVal())\n",
    "        print(f\"Routes - {int(self._k.val)} out of K={self.K} max:\")\n",
    "        for i, r in enumerate(self.routes):\n",
    "            print(f\"#{i}:\", r)"
   ]
  },
  {
   "cell_type": "code",
   "execution_count": 3,
   "metadata": {},
   "outputs": [],
   "source": [
    "class VRP_relaxed(mip.Problem):\n",
    "    \"\"\"MILP problem for modeling the Vehicle Routing Problem\n",
    "    \n",
    "    This is a simple version of the VRP where all the vehicles involved have identical\n",
    "    characteristics (i.e. all the same capacity, costs, etc.). The maximum number of \n",
    "    vehicles can be specified, but if there is a way to deliver the goods without using\n",
    "    all of the vehicles that is more optimal, it will do that, otherwise if the capacity\n",
    "    constraints cannot be met the problem will be infeasible. You can also specify\n",
    "    the quantity of goods to be dropped off at each customer; by default this is just 1\n",
    "    \"\"\"\n",
    "    def model(self, D: np.ndarray, K: int, C: float, q: Union[float, Iterable]=1):\n",
    "        \"\"\"VRP model definition\n",
    "        Arguments:\n",
    "            D [ndarray]: Square matrix (NxN) of distances between locations. It\n",
    "                is assumed that location 0 is the depot.\n",
    "            K [int]: The maximum number of vehicles available.\n",
    "            C [float]: The capacity of each vehicle.\n",
    "            q Union[float, Iterable]: The quantity of goods dropped off at\n",
    "                the given locations.\n",
    "        Returns:\n",
    "            None\n",
    "        \"\"\"\n",
    "        self.D = D\n",
    "        self.C = C\n",
    "        self.K = K\n",
    "        N = len(D)\n",
    "        if isinstance(q, (float, int)):\n",
    "            q = q * np.ones(N-1)\n",
    "        self.q = q\n",
    "        \n",
    "        # Variables\n",
    "        self._X = X = mip.VarVector((N, N), \"X\", mip.REAL, lb=0, ub=1)\n",
    "        self._u = u = mip.VarVector((N-1,), \"u\", mip.REAL, lb=0, ub=C-1)\n",
    "        self._k = k = mip.Var(\"k\", mip.REAL, lb=1, ub=K)\n",
    "        \n",
    "        # Constraints\n",
    "        for i in range(1, N):\n",
    "            mip.sum_(X[i][j] for j in range(N)) == 1\n",
    "            mip.sum_(X[j][i] for j in range(N)) == 1\n",
    "            X[i][i] == 0\n",
    "        X[0][0] == 0\n",
    "        mip.sum_(X[i][0] for i in range(N)) == k\n",
    "        mip.sum_(X[0][i] for i in range(N)) == k\n",
    "        for i in range(1, N):\n",
    "            for j in range(1, N):\n",
    "                if i == j:\n",
    "                    continue\n",
    "                u[j-1] - u[i-1] >= q[j-1] - C*(1-X[i][j])\n",
    "        \n",
    "        # Objective\n",
    "        obj = (\n",
    "            mip.sum_(D[i,j]*X[i][j] for i in range(N) for j in range(N))\n",
    "            + 5*mip.sum_(X[i][j] for i in range(N) for j in range(N))\n",
    "        )\n",
    "        mip.minimize(obj)\n",
    "        \n",
    "    @property\n",
    "    def X(self):\n",
    "        N = len(self._X)\n",
    "        X = np.array([\n",
    "            [self._X[i][j].val for j in range(N)] \n",
    "        for i in range(N)])#.astype(int)\n",
    "        return X\n",
    "    \n",
    "    @property\n",
    "    def u(self):\n",
    "        u = self._u\n",
    "        u = np.array([u[i].val for i in range(len(u))])\n",
    "        return u.astype(int)\n",
    "    \n",
    "    @property\n",
    "    def routes(self):\n",
    "        X = self.X\n",
    "        N = len(X)\n",
    "        # Destinations after leaving depot\n",
    "        destinations = np.arange(N)[X[0] == 1]\n",
    "        # Iterate over routes\n",
    "        routes = list()\n",
    "        for d in destinations:\n",
    "            route = [0, d]\n",
    "            while True:\n",
    "                if d == 0:\n",
    "                    break\n",
    "                d = np.argmax(X[d])\n",
    "                route.append(d)\n",
    "            routes.append(route)\n",
    "        return routes\n",
    "    \n",
    "    def printSolution(self):\n",
    "        print(\"Is optimal:\", self.is_solutionOptimal)\n",
    "        print(\"Total distance:\", self.getObjVal())\n",
    "        print(f\"Routes - {int(self._k.val)} out of K={self.K} max:\")\n",
    "        for i, r in enumerate(self.routes):\n",
    "            print(f\"#{i}:\", r)"
   ]
  },
  {
   "cell_type": "code",
   "execution_count": 21,
   "metadata": {},
   "outputs": [
    {
     "name": "stdout",
     "output_type": "stream",
     "text": [
      "CPU times: user 19min 11s, sys: 2.43 s, total: 19min 14s\n",
      "Wall time: 4min 59s\n"
     ]
    }
   ],
   "source": [
    "N = 20 # Number of stops (excluding depot)\n",
    "K = 5 # Max number of vehicles\n",
    "C = 5 # Max vehicle capacity\n",
    "q = np.random.rand(N)\n",
    "np.random.seed(2)\n",
    "locations = np.random.randn(N+1, 2)\n",
    "D = squareform(pdist(locations)) # Distance matrix\n",
    "\n",
    "prob = VRP(\"VRP\")\n",
    "prob.model(D, K, C, q)\n",
    "%time prob.optimize(silent=False, timeLimit=60*5, gap=0.0)"
   ]
  },
  {
   "cell_type": "code",
   "execution_count": 22,
   "metadata": {},
   "outputs": [
    {
     "name": "stdout",
     "output_type": "stream",
     "text": [
      "Is optimal: False\n",
      "Total distance: 19.892392265755745\n",
      "Routes - 4 out of K=5 max:\n",
      "#0: [0, 7, 18, 3, 11, 6, 0]\n",
      "#1: [0, 10, 2, 4, 13, 12, 0]\n",
      "#2: [0, 19, 8, 15, 5, 17, 0]\n",
      "#3: [0, 20, 1, 16, 14, 9, 0]\n"
     ]
    }
   ],
   "source": [
    "prob.printSolution()"
   ]
  },
  {
   "cell_type": "code",
   "execution_count": 23,
   "metadata": {},
   "outputs": [
    {
     "data": {
      "text/plain": [
       "array([[0, 0, 0, 0, 0, 0, 0, 1, 0, 0, 1, 0, 0, 0, 0, 0, 0, 0, 0, 1, 1],\n",
       "       [0, 0, 0, 0, 0, 0, 0, 0, 0, 0, 0, 0, 0, 0, 0, 0, 1, 0, 0, 0, 0],\n",
       "       [0, 0, 0, 0, 1, 0, 0, 0, 0, 0, 0, 0, 0, 0, 0, 0, 0, 0, 0, 0, 0],\n",
       "       [0, 0, 0, 0, 0, 0, 0, 0, 0, 0, 0, 1, 0, 0, 0, 0, 0, 0, 0, 0, 0],\n",
       "       [0, 0, 0, 0, 0, 0, 0, 0, 0, 0, 0, 0, 0, 1, 0, 0, 0, 0, 0, 0, 0],\n",
       "       [0, 0, 0, 0, 0, 0, 0, 0, 0, 0, 0, 0, 0, 0, 0, 0, 0, 1, 0, 0, 0],\n",
       "       [1, 0, 0, 0, 0, 0, 0, 0, 0, 0, 0, 0, 0, 0, 0, 0, 0, 0, 0, 0, 0],\n",
       "       [0, 0, 0, 0, 0, 0, 0, 0, 0, 0, 0, 0, 0, 0, 0, 0, 0, 0, 1, 0, 0],\n",
       "       [0, 0, 0, 0, 0, 0, 0, 0, 0, 0, 0, 0, 0, 0, 0, 1, 0, 0, 0, 0, 0],\n",
       "       [1, 0, 0, 0, 0, 0, 0, 0, 0, 0, 0, 0, 0, 0, 0, 0, 0, 0, 0, 0, 0],\n",
       "       [0, 0, 1, 0, 0, 0, 0, 0, 0, 0, 0, 0, 0, 0, 0, 0, 0, 0, 0, 0, 0],\n",
       "       [0, 0, 0, 0, 0, 0, 1, 0, 0, 0, 0, 0, 0, 0, 0, 0, 0, 0, 0, 0, 0],\n",
       "       [1, 0, 0, 0, 0, 0, 0, 0, 0, 0, 0, 0, 0, 0, 0, 0, 0, 0, 0, 0, 0],\n",
       "       [0, 0, 0, 0, 0, 0, 0, 0, 0, 0, 0, 0, 1, 0, 0, 0, 0, 0, 0, 0, 0],\n",
       "       [0, 0, 0, 0, 0, 0, 0, 0, 0, 1, 0, 0, 0, 0, 0, 0, 0, 0, 0, 0, 0],\n",
       "       [0, 0, 0, 0, 0, 1, 0, 0, 0, 0, 0, 0, 0, 0, 0, 0, 0, 0, 0, 0, 0],\n",
       "       [0, 0, 0, 0, 0, 0, 0, 0, 0, 0, 0, 0, 0, 0, 1, 0, 0, 0, 0, 0, 0],\n",
       "       [1, 0, 0, 0, 0, 0, 0, 0, 0, 0, 0, 0, 0, 0, 0, 0, 0, 0, 0, 0, 0],\n",
       "       [0, 0, 0, 1, 0, 0, 0, 0, 0, 0, 0, 0, 0, 0, 0, 0, 0, 0, 0, 0, 0],\n",
       "       [0, 0, 0, 0, 0, 0, 0, 0, 1, 0, 0, 0, 0, 0, 0, 0, 0, 0, 0, 0, 0],\n",
       "       [0, 1, 0, 0, 0, 0, 0, 0, 0, 0, 0, 0, 0, 0, 0, 0, 0, 0, 0, 0, 0]])"
      ]
     },
     "execution_count": 23,
     "metadata": {},
     "output_type": "execute_result"
    }
   ],
   "source": [
    "prob.X.round(2)"
   ]
  },
  {
   "cell_type": "code",
   "execution_count": 24,
   "metadata": {},
   "outputs": [
    {
     "data": {
      "image/png": "[encoded data removed]",
      "text/plain": [
       "<Figure size 432x288 with 1 Axes>"
      ]
     },
     "metadata": {
      "needs_background": "light"
     },
     "output_type": "display_data"
    }
   ],
   "source": [
    "# Plot the solution\n",
    "# Size of dots denotes the quantity dropped off at each customer\n",
    "routes = prob.routes\n",
    "for i, route in enumerate(routes):\n",
    "    r = np.array(route)-1; r = r[r>=0]\n",
    "    s = 100*q[r]\n",
    "    c = f\"C{i}\"\n",
    "    route = locations[route]\n",
    "    first = True\n",
    "    for s, r in zip(s, route):\n",
    "        if first:\n",
    "            first = False\n",
    "            continue\n",
    "        plt.scatter(*r, c=c, s=s, marker='o', zorder=0)\n",
    "    plt.plot(*route.T, color=c, marker=None, zorder=0)\n",
    "plt.scatter(*locations[0], s=150, marker=\"*\", color='black', zorder=1)\n",
    "plt.title(f\"VRP solution with N={N} stops\\n\"\n",
    "          f\"and K={int(prob._k.val)} vehicles with capacity C={C}\\n\"\n",
    "          f\"Total distance = {prob.getObjVal():.5f}\")\n",
    "plt.show()"
   ]
  },
  {
   "cell_type": "code",
   "execution_count": null,
   "metadata": {},
   "outputs": [],
   "source": []
  }
 ],
 "metadata": {
  "jupytext": {
   "formats": "ipynb,py:light"
  },
  "kernelspec": {
   "display_name": "Python 3",
   "language": "python",
   "name": "python3"
  },
  "language_info": {
   "codemirror_mode": {
    "name": "ipython",
    "version": 3
   },
   "file_extension": ".py",
   "mimetype": "text/x-python",
   "name": "python",
   "nbconvert_exporter": "python",
   "pygments_lexer": "ipython3",
   "version": "3.7.3"
  }
 },
 "nbformat": 4,
 "nbformat_minor": 4
}
